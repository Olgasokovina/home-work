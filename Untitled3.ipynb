{
  "nbformat": 4,
  "nbformat_minor": 0,
  "metadata": {
    "colab": {
      "provenance": [],
      "collapsed_sections": [],
      "authorship_tag": "ABX9TyNkAQUugwinAUWVZtqsHOee",
      "include_colab_link": true
    },
    "kernelspec": {
      "name": "python3",
      "display_name": "Python 3"
    },
    "language_info": {
      "name": "python"
    }
  },
  "cells": [
    {
      "cell_type": "markdown",
      "metadata": {
        "id": "view-in-github",
        "colab_type": "text"
      },
      "source": [
        "<a href=\"https://colab.research.google.com/github/Olgasokovina/home-work/blob/main/Untitled3.ipynb\" target=\"_parent\"><img src=\"https://colab.research.google.com/assets/colab-badge.svg\" alt=\"Open In Colab\"/></a>"
      ]
    },
    {
      "cell_type": "markdown",
      "source": [
        "Кортко о главном: NUMPY  . Мой кооткий конспект"
      ],
      "metadata": {
        "id": "GEFLBGPpK_oK"
      }
    },
    {
      "cell_type": "code",
      "source": [
        "import numpy as np\n",
        "arr = np.array([1,5,2,9,10]) # создание массива из списка\n",
        "arr = np.array([1,5,2,9,10], dtype=np.int8)  # создание массива из списка и сразу задать тип данных"
      ],
      "metadata": {
        "id": "tnPdJ3zSK9iv"
      },
      "execution_count": 3,
      "outputs": []
    },
    {
      "cell_type": "code",
      "source": [
        "arr = np.array([1,5,2,9,10])\n",
        "arr.dtype\n",
        "# dtype('int64')  # определить тип данных"
      ],
      "metadata": {
        "id": "BQK1t2DuMqol"
      },
      "execution_count": null,
      "outputs": []
    },
    {
      "cell_type": "code",
      "source": [
        "arr = np.float128(arr) # изменить  тип данных в массиве может быть int8, uint32 и т.д."
      ],
      "metadata": {
        "id": "gLDuzzg1OFon"
      },
      "execution_count": 5,
      "outputs": []
    },
    {
      "cell_type": "code",
      "source": [
        "arr.ndim  # узнать размерность массива"
      ],
      "metadata": {
        "id": "pV3QATxIOjgZ"
      },
      "execution_count": null,
      "outputs": []
    },
    {
      "cell_type": "code",
      "source": [
        "arr.size  # узнать общее число элементов"
      ],
      "metadata": {
        "id": "ArrlkFmNPgM9"
      },
      "execution_count": null,
      "outputs": []
    },
    {
      "cell_type": "code",
      "source": [
        "arr.shape # узнать структуру массива"
      ],
      "metadata": {
        "id": "4eyKCfBWP0tA"
      },
      "execution_count": null,
      "outputs": []
    },
    {
      "cell_type": "code",
      "source": [
        "arr.itemsize # узнать сколько вести любой элемент в байтах , тк все элементы должны быть одного типа"
      ],
      "metadata": {
        "id": "WsDYVBaLP-Qh"
      },
      "execution_count": null,
      "outputs": []
    },
    {
      "cell_type": "code",
      "source": [
        "zeros_1d = np.zeros(5)  # создать массив из 0  принимает аргументы shape (обязательный) — форма массива (одно число или кортеж)\n",
        "zeros_3d = np.zeros((5,4,3), dtype=np.float32)  # и dtype (необязательный) — тип данных, который будет храниться в массиве."
      ],
      "metadata": {
        "id": "y-sQqti9QRmx"
      },
      "execution_count": null,
      "outputs": []
    },
    {
      "cell_type": "code",
      "source": [
        "arr=np.arange(5) # аналогична встроенной функции range, но обладает рядом особенностей. Вот её сигнатура: arange([start,] stop, [step,], dtype=None).\n",
        "np.arange(2.5, 5) #можно даже дробные"
      ],
      "metadata": {
        "id": "r5pqg2orQ_lm"
      },
      "execution_count": 9,
      "outputs": []
    },
    {
      "cell_type": "code",
      "source": [
        "arr = np.linspace(1, 2, 10) # аналог arange, пишут, что лучше, стабильнее\n",
        "np.linspace(start, stop, num=50, endpoint=True, retstep=False, dtype=None)"
      ],
      "metadata": {
        "id": "1KaqYBezRYoH"
      },
      "execution_count": null,
      "outputs": []
    },
    {
      "cell_type": "markdown",
      "source": [
        "start и stop являются обязательными параметрами, задающими начало и конец возвращаемого диапазона;  \n",
        "num — параметр, задающий число элементов, которое должно оказаться в массиве (по умолчанию 50);  \n",
        "endpoint — включён или исключён конец диапазона (по умолчанию включён);\n",
        "retstep (по умолчанию False) позволяет указать, возвращать ли использованный шаг между значениями, помимо самого массива;  \n",
        "dtype — уже хорошо знакомый нам параметр, задающий тип данных (если не задан, определяется автоматически).  "
      ],
      "metadata": {
        "id": "Vl_9FCQOTQ1e"
      }
    },
    {
      "cell_type": "code",
      "source": [
        "arr, step = np.linspace(1, 2, 10, endpoint=True, retstep=True)\n",
        "print(step, arr, sep='\\n')"
      ],
      "metadata": {
        "colab": {
          "base_uri": "https://localhost:8080/"
        },
        "id": "-Ev5oAVDTUGn",
        "outputId": "70319793-a617-433a-b740-a23191c9e43f"
      },
      "execution_count": 14,
      "outputs": [
        {
          "output_type": "stream",
          "name": "stdout",
          "text": [
            "0.1111111111111111\n",
            "[1.         1.11111111 1.22222222 1.33333333 1.44444444 1.55555556\n",
            " 1.66666667 1.77777778 1.88888889 2.        ]\n"
          ]
        }
      ]
    },
    {
      "cell_type": "code",
      "source": [
        "arr.shape = (2, 4) # Поменять форму массива arr можно с помощью присвоения атрибуту shape кортежа с желаемой формой:"
      ],
      "metadata": {
        "id": "44rT2iZ3ThyE"
      },
      "execution_count": null,
      "outputs": []
    },
    {
      "cell_type": "code",
      "source": [
        "arr_new = arr.reshape((2, 4)) #Чтобы оставить исходный массив без изменений и дополнительно получить новый массив новой формы,\n",
        "arr_new = arr.reshape((2, 4), order='F')\n",
        "#У функции reshape есть дополнительный именованный аргумент order. Он задаёт принцип, по которому элементы заполняют массив новой формы. Если order='C' (по умолчанию), \n",
        "#массив заполняется по строкам, как в примере выше. Если order='F', массив заполняется числами по столбцам:"
      ],
      "metadata": {
        "id": "BIebe-tsU6bH"
      },
      "execution_count": null,
      "outputs": []
    },
    {
      "cell_type": "code",
      "source": [
        "arr_trans = arr.transpose() # транспонирование "
      ],
      "metadata": {
        "id": "d3ThqKJAVdHR"
      },
      "execution_count": 15,
      "outputs": []
    },
    {
      "cell_type": "code",
      "source": [
        "arr = np.array([23,12,45,12,23,4,15,3]) # Функция np.sort(<массив>) возвращает новый отсортированный массив\n",
        "arr_new = np.sort(arr)\n",
        "\n",
        "arr = np.array([23,12,45,12,23,4,15,3]) # Функция <массив>.sort() сортирует исходный массив\n",
        "print(arr.sort())"
      ],
      "metadata": {
        "id": "rFRHyt8OWJ3O"
      },
      "execution_count": null,
      "outputs": []
    },
    {
      "cell_type": "code",
      "source": [],
      "metadata": {
        "id": "KueO7I6ncNQP"
      },
      "execution_count": null,
      "outputs": []
    }
  ]
}